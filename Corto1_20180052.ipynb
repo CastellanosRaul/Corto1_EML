{
 "cells": [
  {
   "cell_type": "markdown",
   "id": "authentic-basket",
   "metadata": {},
   "source": [
    "# Corto 1 EML"
   ]
  },
  {
   "cell_type": "markdown",
   "id": "danish-clinton",
   "metadata": {},
   "source": [
    "## Raul Castellanos 20180052"
   ]
  },
  {
   "cell_type": "code",
   "execution_count": 1,
   "id": "intermediate-curtis",
   "metadata": {},
   "outputs": [],
   "source": [
    "import pandas as pd \n",
    "import numpy as np \n",
    "import matplotlib.pyplot as plt"
   ]
  },
  {
   "cell_type": "code",
   "execution_count": 2,
   "id": "hollow-figure",
   "metadata": {},
   "outputs": [
    {
     "data": {
      "text/html": [
       "<div>\n",
       "<style scoped>\n",
       "    .dataframe tbody tr th:only-of-type {\n",
       "        vertical-align: middle;\n",
       "    }\n",
       "\n",
       "    .dataframe tbody tr th {\n",
       "        vertical-align: top;\n",
       "    }\n",
       "\n",
       "    .dataframe thead th {\n",
       "        text-align: right;\n",
       "    }\n",
       "</style>\n",
       "<table border=\"1\" class=\"dataframe\">\n",
       "  <thead>\n",
       "    <tr style=\"text-align: right;\">\n",
       "      <th></th>\n",
       "      <th>C1</th>\n",
       "      <th>C2</th>\n",
       "      <th>C3</th>\n",
       "      <th>Cons</th>\n",
       "    </tr>\n",
       "  </thead>\n",
       "  <tbody>\n",
       "    <tr>\n",
       "      <th>0</th>\n",
       "      <td>0.796997</td>\n",
       "      <td>50.312938</td>\n",
       "      <td>2532.026902</td>\n",
       "      <td>1</td>\n",
       "    </tr>\n",
       "    <tr>\n",
       "      <th>1</th>\n",
       "      <td>1.115603</td>\n",
       "      <td>50.156194</td>\n",
       "      <td>2516.888332</td>\n",
       "      <td>1</td>\n",
       "    </tr>\n",
       "    <tr>\n",
       "      <th>2</th>\n",
       "      <td>1.064629</td>\n",
       "      <td>50.774814</td>\n",
       "      <td>2579.215190</td>\n",
       "      <td>1</td>\n",
       "    </tr>\n",
       "    <tr>\n",
       "      <th>3</th>\n",
       "      <td>1.796804</td>\n",
       "      <td>50.055668</td>\n",
       "      <td>2508.798424</td>\n",
       "      <td>1</td>\n",
       "    </tr>\n",
       "    <tr>\n",
       "      <th>4</th>\n",
       "      <td>1.261743</td>\n",
       "      <td>50.522134</td>\n",
       "      <td>2554.078001</td>\n",
       "      <td>1</td>\n",
       "    </tr>\n",
       "  </tbody>\n",
       "</table>\n",
       "</div>"
      ],
      "text/plain": [
       "         C1         C2           C3  Cons\n",
       "0  0.796997  50.312938  2532.026902     1\n",
       "1  1.115603  50.156194  2516.888332     1\n",
       "2  1.064629  50.774814  2579.215190     1\n",
       "3  1.796804  50.055668  2508.798424     1\n",
       "4  1.261743  50.522134  2554.078001     1"
      ]
     },
     "execution_count": 2,
     "metadata": {},
     "output_type": "execute_result"
    }
   ],
   "source": [
    "df = pd.read_csv(\"dat.csv\")\n",
    "df.columns = ['C1', 'C2', 'C3']\n",
    "df['Cons'] = 1\n",
    "df.head()"
   ]
  },
  {
   "cell_type": "markdown",
   "id": "civilian-theory",
   "metadata": {},
   "source": [
    "### Funciones de costo"
   ]
  },
  {
   "cell_type": "code",
   "execution_count": 3,
   "id": "other-agreement",
   "metadata": {},
   "outputs": [],
   "source": [
    "def linear_cost(X, y, theta): \n",
    "    h = X @ theta\n",
    "    return ((y-h)**2).sum() / (2 * len(X))"
   ]
  },
  {
   "cell_type": "code",
   "execution_count": 4,
   "id": "silver-modem",
   "metadata": {},
   "outputs": [],
   "source": [
    "def linear_cost_gradient(X, y, theta): \n",
    "    h = X @ theta\n",
    "    return (X.T @ (h-y))/ len(X)"
   ]
  },
  {
   "cell_type": "code",
   "execution_count": 5,
   "id": "stable-cause",
   "metadata": {},
   "outputs": [],
   "source": [
    "def gradient_descent(\n",
    "X,y,theta_0,linear_cost,linear_cost_gradient,\n",
    "    learning_rate = 0.0001, threshold=0.001, max_iter=10000): \n",
    "    \n",
    "    theta = theta_0\n",
    "    iteration = 0 \n",
    "    costs = []\n",
    "    thetas = []\n",
    "    \n",
    "    while np.linalg.norm(linear_cost_gradient(X,y,theta)) > threshold and iteration < max_iter:\n",
    "        iteration += 1 \n",
    "        theta = theta - (learning_rate * linear_cost_gradient(X,y,theta))\n",
    "        costs.append(linear_cost(X,y,theta))\n",
    "        thetas.append(theta.copy())\n",
    "        \n",
    "    return theta, costs, thetas"
   ]
  },
  {
   "cell_type": "markdown",
   "id": "sudden-signature",
   "metadata": {},
   "source": [
    "### Polinomio 6"
   ]
  },
  {
   "cell_type": "code",
   "execution_count": 6,
   "id": "tired-edmonton",
   "metadata": {},
   "outputs": [],
   "source": [
    "df['C1_2'] = df['C1'] ** 2\n",
    "df['C1_3'] = df['C1'] ** 3\n",
    "df['C1_4'] = df['C1'] ** 4\n",
    "df['C1_5'] = df['C1'] ** 5\n",
    "df['C1_6'] = df['C1'] ** 6\n",
    "\n",
    "df['C2_2'] = df['C2'] ** 2\n",
    "df['C2_3'] = df['C2'] ** 3\n",
    "df['C2_4'] = df['C2'] ** 4\n",
    "df['C2_5'] = df['C2'] ** 5\n",
    "df['C2_6'] = df['C2'] ** 6"
   ]
  },
  {
   "cell_type": "code",
   "execution_count": 7,
   "id": "several-startup",
   "metadata": {},
   "outputs": [
    {
     "name": "stdout",
     "output_type": "stream",
     "text": [
      "(159999, 13) (159999,)\n"
     ]
    }
   ],
   "source": [
    "y = df['C3'].to_numpy()\n",
    "x = df[['Cons','C1','C2','C1_2', 'C1_3', 'C1_4', 'C1_5', 'C1_6', 'C2_2', 'C2_3', 'C2_4', 'C2_5', 'C2_6']].to_numpy()\n",
    "print(x.shape, y.shape)"
   ]
  },
  {
   "cell_type": "markdown",
   "id": "prescription-investing",
   "metadata": {},
   "source": [
    "### Tethas Array"
   ]
  },
  {
   "cell_type": "code",
   "execution_count": 8,
   "id": "cognitive-cambridge",
   "metadata": {},
   "outputs": [],
   "source": [
    "m,n = x.shape"
   ]
  },
  {
   "cell_type": "code",
   "execution_count": 9,
   "id": "better-virginia",
   "metadata": {},
   "outputs": [
    {
     "name": "stdout",
     "output_type": "stream",
     "text": [
      "(13, 1)\n"
     ]
    }
   ],
   "source": [
    "theta_0 = np.random.rand(n,1)\n",
    "print(theta_0.shape)"
   ]
  },
  {
   "cell_type": "markdown",
   "id": "forty-purpose",
   "metadata": {},
   "source": [
    "### Shuffle"
   ]
  },
  {
   "cell_type": "code",
   "execution_count": 10,
   "id": "british-grill",
   "metadata": {},
   "outputs": [],
   "source": [
    "np.random.shuffle(x)\n",
    "np.random.shuffle(y)"
   ]
  },
  {
   "cell_type": "code",
   "execution_count": 11,
   "id": "paperback-regression",
   "metadata": {},
   "outputs": [],
   "source": [
    "#Train 70% \n",
    "#Train 15% \n",
    "#Train 15% \n",
    "\n",
    "x_train = x[:55999]\n",
    "x_test = x[56000:67999]\n",
    "x_cv = x[68000:79999]\n",
    "\n",
    "y_train = y[:55999]\n",
    "y_test = y[56000:67999]\n",
    "y_cv = y[68000:79999]"
   ]
  },
  {
   "cell_type": "code",
   "execution_count": null,
   "id": "relative-girlfriend",
   "metadata": {},
   "outputs": [],
   "source": [
    "theta, costs, thetas = gradient_descent(x_train,y_train,theta_0,linear_cost,linear_cost_gradient,0.0001,0.001,1000)\n",
    "tetha"
   ]
  },
  {
   "cell_type": "code",
   "execution_count": null,
   "id": "failing-coverage",
   "metadata": {},
   "outputs": [],
   "source": []
  },
  {
   "cell_type": "code",
   "execution_count": null,
   "id": "acquired-favorite",
   "metadata": {},
   "outputs": [],
   "source": []
  }
 ],
 "metadata": {
  "kernelspec": {
   "display_name": "venvEMLC1",
   "language": "python",
   "name": "venvemlc1"
  },
  "language_info": {
   "codemirror_mode": {
    "name": "ipython",
    "version": 3
   },
   "file_extension": ".py",
   "mimetype": "text/x-python",
   "name": "python",
   "nbconvert_exporter": "python",
   "pygments_lexer": "ipython3",
   "version": "3.9.1"
  }
 },
 "nbformat": 4,
 "nbformat_minor": 5
}
