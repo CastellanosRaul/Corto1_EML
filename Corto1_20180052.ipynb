{
 "cells": [
  {
   "cell_type": "markdown",
   "id": "instant-overhead",
   "metadata": {},
   "source": [
    "# Corto 1 EML"
   ]
  },
  {
   "cell_type": "markdown",
   "id": "adolescent-width",
   "metadata": {},
   "source": [
    "## Raul Castellanos 20180052"
   ]
  },
  {
   "cell_type": "code",
   "execution_count": 1,
   "id": "stuffed-powell",
   "metadata": {},
   "outputs": [],
   "source": [
    "import pandas as pd \n",
    "import numpy as np \n",
    "import matplotlib.pyplot as plt"
   ]
  },
  {
   "cell_type": "code",
   "execution_count": 2,
   "id": "determined-currency",
   "metadata": {},
   "outputs": [
    {
     "data": {
      "text/html": [
       "<div>\n",
       "<style scoped>\n",
       "    .dataframe tbody tr th:only-of-type {\n",
       "        vertical-align: middle;\n",
       "    }\n",
       "\n",
       "    .dataframe tbody tr th {\n",
       "        vertical-align: top;\n",
       "    }\n",
       "\n",
       "    .dataframe thead th {\n",
       "        text-align: right;\n",
       "    }\n",
       "</style>\n",
       "<table border=\"1\" class=\"dataframe\">\n",
       "  <thead>\n",
       "    <tr style=\"text-align: right;\">\n",
       "      <th></th>\n",
       "      <th>C1</th>\n",
       "      <th>C2</th>\n",
       "      <th>C3</th>\n",
       "      <th>Cons</th>\n",
       "    </tr>\n",
       "  </thead>\n",
       "  <tbody>\n",
       "    <tr>\n",
       "      <th>0</th>\n",
       "      <td>0.796997</td>\n",
       "      <td>50.312938</td>\n",
       "      <td>2532.026902</td>\n",
       "      <td>1</td>\n",
       "    </tr>\n",
       "    <tr>\n",
       "      <th>1</th>\n",
       "      <td>1.115603</td>\n",
       "      <td>50.156194</td>\n",
       "      <td>2516.888332</td>\n",
       "      <td>1</td>\n",
       "    </tr>\n",
       "    <tr>\n",
       "      <th>2</th>\n",
       "      <td>1.064629</td>\n",
       "      <td>50.774814</td>\n",
       "      <td>2579.215190</td>\n",
       "      <td>1</td>\n",
       "    </tr>\n",
       "    <tr>\n",
       "      <th>3</th>\n",
       "      <td>1.796804</td>\n",
       "      <td>50.055668</td>\n",
       "      <td>2508.798424</td>\n",
       "      <td>1</td>\n",
       "    </tr>\n",
       "    <tr>\n",
       "      <th>4</th>\n",
       "      <td>1.261743</td>\n",
       "      <td>50.522134</td>\n",
       "      <td>2554.078001</td>\n",
       "      <td>1</td>\n",
       "    </tr>\n",
       "  </tbody>\n",
       "</table>\n",
       "</div>"
      ],
      "text/plain": [
       "         C1         C2           C3  Cons\n",
       "0  0.796997  50.312938  2532.026902     1\n",
       "1  1.115603  50.156194  2516.888332     1\n",
       "2  1.064629  50.774814  2579.215190     1\n",
       "3  1.796804  50.055668  2508.798424     1\n",
       "4  1.261743  50.522134  2554.078001     1"
      ]
     },
     "execution_count": 2,
     "metadata": {},
     "output_type": "execute_result"
    }
   ],
   "source": [
    "df = pd.read_csv(\"dat.csv\")\n",
    "df.columns = ['C1', 'C2', 'C3']\n",
    "df['Cons'] = 1\n",
    "df.head()"
   ]
  },
  {
   "cell_type": "markdown",
   "id": "stopped-singles",
   "metadata": {},
   "source": [
    "## Polinomio 2"
   ]
  },
  {
   "cell_type": "code",
   "execution_count": 3,
   "id": "fancy-poster",
   "metadata": {},
   "outputs": [],
   "source": [
    "df['C1_2'] = df['C1'] ** 2\n",
    "\n",
    "df['C2_2'] = df['C2'] ** 2\n"
   ]
  },
  {
   "cell_type": "code",
   "execution_count": 4,
   "id": "natural-duplicate",
   "metadata": {},
   "outputs": [
    {
     "name": "stdout",
     "output_type": "stream",
     "text": [
      "(159999, 5) (159999, 1)\n"
     ]
    }
   ],
   "source": [
    "y = df[['C3']].to_numpy()\n",
    "X = df[['Cons','C1','C2','C1_2','C2_2']].to_numpy()\n",
    "print(X.shape, y.shape)"
   ]
  },
  {
   "cell_type": "markdown",
   "id": "arranged-mount",
   "metadata": {},
   "source": [
    "### Funciones de costo"
   ]
  },
  {
   "cell_type": "code",
   "execution_count": 5,
   "id": "british-basin",
   "metadata": {},
   "outputs": [],
   "source": [
    "def linear_cost(X, y, theta): \n",
    "    h = X @ theta\n",
    "    return ((y-h)**2).sum() / (2 * len(X))\n",
    "\n",
    "def linear_cost_gradient(X, y, theta): \n",
    "    h = X @ theta\n",
    "    return (X.T @ (h-y))/ len(X)"
   ]
  },
  {
   "cell_type": "markdown",
   "id": "editorial-desert",
   "metadata": {},
   "source": [
    "### Shuffle"
   ]
  },
  {
   "cell_type": "code",
   "execution_count": 6,
   "id": "signal-brake",
   "metadata": {},
   "outputs": [],
   "source": [
    "np.random.shuffle(X)\n",
    "np.random.shuffle(y)"
   ]
  },
  {
   "cell_type": "code",
   "execution_count": 7,
   "id": "coated-color",
   "metadata": {},
   "outputs": [],
   "source": [
    "#Train 70% \n",
    "#Train 15% \n",
    "#Train 15% \n",
    "\n",
    "X_train = X[:111999]\n",
    "X_test = X[112000:135999]\n",
    "X_cv = X[136000:159999]\n",
    "\n",
    "y_train = y[:111999]\n",
    "y_test = y[112000:135999]\n",
    "y_cv = y[136000:159999]"
   ]
  },
  {
   "cell_type": "markdown",
   "id": "legislative-malaysia",
   "metadata": {},
   "source": [
    "### Tethas Array"
   ]
  },
  {
   "cell_type": "code",
   "execution_count": 8,
   "id": "intensive-injection",
   "metadata": {},
   "outputs": [],
   "source": [
    "m, n = X_train.shape"
   ]
  },
  {
   "cell_type": "code",
   "execution_count": 9,
   "id": "dressed-workplace",
   "metadata": {},
   "outputs": [
    {
     "name": "stdout",
     "output_type": "stream",
     "text": [
      "(5, 1)\n"
     ]
    }
   ],
   "source": [
    "theta_0 = np.random.rand(n,1)\n",
    "print(theta_0.shape)"
   ]
  },
  {
   "cell_type": "code",
   "execution_count": 10,
   "id": "contrary-corps",
   "metadata": {},
   "outputs": [],
   "source": [
    "def gradient_descent(X, y, theta_0, linear_function, linear_gradient, \n",
    "                     learning_rate=0.0000000000000000001, threshold= 0.0000000001, max_iter=10000, lambdaparam = 10, n = 0):\n",
    "    theta = theta_0\n",
    "    iteration = 0\n",
    "    costs = []\n",
    "    thetas = []\n",
    "\n",
    "    while np.linalg.norm(linear_gradient(X, y, theta)) > threshold and iteration < max_iter:\n",
    "        iteration += 1\n",
    "        n += 1\n",
    "        theta = theta - learning_rate * (linear_gradient(X, y, theta) + lambdaparam * theta)\n",
    "        costs.append(linear_function(X, y, theta))\n",
    "        thetas.append(theta.copy())\n",
    "    return theta, costs, thetas"
   ]
  },
  {
   "cell_type": "code",
   "execution_count": 11,
   "id": "touched-belfast",
   "metadata": {},
   "outputs": [],
   "source": [
    "theta, costs, thetas = gradient_descent(X_train,y_train,theta_0,linear_cost,linear_cost_gradient, lambdaparam = 2)"
   ]
  },
  {
   "cell_type": "code",
   "execution_count": 12,
   "id": "gorgeous-remains",
   "metadata": {},
   "outputs": [
    {
     "data": {
      "text/plain": [
       "[<matplotlib.lines.Line2D at 0x7fa225102f40>]"
      ]
     },
     "execution_count": 12,
     "metadata": {},
     "output_type": "execute_result"
    },
    {
     "data": {
      "image/png": "[encoded data removed]",
      "text/plain": [
       "<Figure size 432x288 with 1 Axes>"
      ]
     },
     "metadata": {
      "needs_background": "light"
     },
     "output_type": "display_data"
    }
   ],
   "source": [
    "plt.plot(costs)"
   ]
  },
  {
   "cell_type": "markdown",
   "id": "industrial-vatican",
   "metadata": {},
   "source": [
    "### Test"
   ]
  },
  {
   "cell_type": "code",
   "execution_count": 13,
   "id": "cooked-diabetes",
   "metadata": {},
   "outputs": [
    {
     "data": {
      "text/plain": [
       "<function matplotlib.pyplot.plot(*args, scalex=True, scaley=True, data=None, **kwargs)>"
      ]
     },
     "execution_count": 13,
     "metadata": {},
     "output_type": "execute_result"
    },
    {
     "data": {
      "image/png": "[encoded data removed]",
      "text/plain": [
       "<Figure size 432x288 with 1 Axes>"
      ]
     },
     "metadata": {
      "needs_background": "light"
     },
     "output_type": "display_data"
    }
   ],
   "source": [
    "plt.scatter(X_test[:,3], y_test)\n",
    "plt.plot(X_test, X_test @ theta, color='green')\n",
    "plt.plot"
   ]
  },
  {
   "cell_type": "markdown",
   "id": "confident-suffering",
   "metadata": {},
   "source": [
    "### Cross Validation"
   ]
  },
  {
   "cell_type": "code",
   "execution_count": 14,
   "id": "egyptian-aging",
   "metadata": {},
   "outputs": [
    {
     "data": {
      "text/plain": [
       "<function matplotlib.pyplot.plot(*args, scalex=True, scaley=True, data=None, **kwargs)>"
      ]
     },
     "execution_count": 14,
     "metadata": {},
     "output_type": "execute_result"
    },
    {
     "data": {
      "image/png": "[encoded data removed]",
      "text/plain": [
       "<Figure size 432x288 with 1 Axes>"
      ]
     },
     "metadata": {
      "needs_background": "light"
     },
     "output_type": "display_data"
    }
   ],
   "source": [
    "plt.scatter(X_cv[:,3], y_cv)\n",
    "plt.plot(X_cv, X_cv @ theta, color='green')\n",
    "plt.plot"
   ]
  },
  {
   "cell_type": "code",
   "execution_count": 15,
   "id": "durable-modern",
   "metadata": {},
   "outputs": [
    {
     "data": {
      "text/plain": [
       "201712039.52910888"
      ]
     },
     "execution_count": 15,
     "metadata": {},
     "output_type": "execute_result"
    }
   ],
   "source": [
    "min(costs)"
   ]
  },
  {
   "cell_type": "markdown",
   "id": "alpha-compilation",
   "metadata": {},
   "source": [
    "## Polinomio 3"
   ]
  },
  {
   "cell_type": "code",
   "execution_count": 16,
   "id": "signal-customs",
   "metadata": {},
   "outputs": [],
   "source": [
    "df['C1_3'] = df['C1'] ** 3\n",
    "df['C2_3'] = df['C2'] ** 3"
   ]
  },
  {
   "cell_type": "code",
   "execution_count": 17,
   "id": "false-tribune",
   "metadata": {},
   "outputs": [
    {
     "name": "stdout",
     "output_type": "stream",
     "text": [
      "(159999, 7) (159999, 1)\n"
     ]
    }
   ],
   "source": [
    "y = df[['C3']].to_numpy()\n",
    "X = df[['Cons','C1','C2','C1_2','C2_2','C1_3','C2_3']].to_numpy()\n",
    "print(X.shape, y.shape)"
   ]
  },
  {
   "cell_type": "code",
   "execution_count": 18,
   "id": "accredited-disability",
   "metadata": {},
   "outputs": [],
   "source": [
    "np.random.shuffle(X)\n",
    "np.random.shuffle(y)"
   ]
  },
  {
   "cell_type": "code",
   "execution_count": 19,
   "id": "surprised-dating",
   "metadata": {},
   "outputs": [],
   "source": [
    "#Train 70% \n",
    "#Train 15% \n",
    "#Train 15% \n",
    "\n",
    "X_train = X[:111999]\n",
    "X_test = X[112000:135999]\n",
    "X_cv = X[136000:159999]\n",
    "\n",
    "y_train = y[:111999]\n",
    "y_test = y[112000:135999]\n",
    "y_cv = y[136000:159999]"
   ]
  },
  {
   "cell_type": "code",
   "execution_count": 20,
   "id": "departmental-cooling",
   "metadata": {},
   "outputs": [],
   "source": [
    "m, n = X_train.shape"
   ]
  },
  {
   "cell_type": "code",
   "execution_count": 21,
   "id": "moderate-setting",
   "metadata": {},
   "outputs": [
    {
     "name": "stdout",
     "output_type": "stream",
     "text": [
      "(7, 1)\n"
     ]
    }
   ],
   "source": [
    "theta_0 = np.random.rand(n,1)\n",
    "print(theta_0.shape)"
   ]
  },
  {
   "cell_type": "code",
   "execution_count": 22,
   "id": "frequent-graph",
   "metadata": {},
   "outputs": [],
   "source": [
    "theta2, costs2, thetas2 = gradient_descent(X_train,y_train,theta_0,linear_cost,linear_cost_gradient, learning_rate = 0.00000000000001, threshold = 0.000001, max_iter=10000, lambdaparam = 2)"
   ]
  },
  {
   "cell_type": "code",
   "execution_count": 23,
   "id": "atomic-rachel",
   "metadata": {},
   "outputs": [
    {
     "data": {
      "text/plain": [
       "[<matplotlib.lines.Line2D at 0x7fa2215dc790>]"
      ]
     },
     "execution_count": 23,
     "metadata": {},
     "output_type": "execute_result"
    },
    {
     "data": {
      "image/png": "[encoded data removed]",
      "text/plain": [
       "<Figure size 432x288 with 1 Axes>"
      ]
     },
     "metadata": {
      "needs_background": "light"
     },
     "output_type": "display_data"
    }
   ],
   "source": [
    "plt.plot(costs2)"
   ]
  },
  {
   "cell_type": "markdown",
   "id": "mediterranean-makeup",
   "metadata": {},
   "source": [
    "### Test"
   ]
  },
  {
   "cell_type": "code",
   "execution_count": 24,
   "id": "devoted-israeli",
   "metadata": {},
   "outputs": [
    {
     "data": {
      "text/plain": [
       "<function matplotlib.pyplot.plot(*args, scalex=True, scaley=True, data=None, **kwargs)>"
      ]
     },
     "execution_count": 24,
     "metadata": {},
     "output_type": "execute_result"
    },
    {
     "data": {
      "image/png": "[encoded data removed]",
      "text/plain": [
       "<Figure size 432x288 with 1 Axes>"
      ]
     },
     "metadata": {
      "needs_background": "light"
     },
     "output_type": "display_data"
    }
   ],
   "source": [
    "plt.scatter(X_test[:,3], y_test)\n",
    "plt.plot(X_test, X_test @ theta2, color='green')\n",
    "plt.plot"
   ]
  },
  {
   "cell_type": "markdown",
   "id": "exciting-employee",
   "metadata": {},
   "source": [
    "### Cross Validation"
   ]
  },
  {
   "cell_type": "code",
   "execution_count": 25,
   "id": "accomplished-microwave",
   "metadata": {},
   "outputs": [
    {
     "data": {
      "text/plain": [
       "<function matplotlib.pyplot.plot(*args, scalex=True, scaley=True, data=None, **kwargs)>"
      ]
     },
     "execution_count": 25,
     "metadata": {},
     "output_type": "execute_result"
    },
    {
     "data": {
      "image/png": "[encoded data removed]",
      "text/plain": [
       "<Figure size 432x288 with 1 Axes>"
      ]
     },
     "metadata": {
      "needs_background": "light"
     },
     "output_type": "display_data"
    }
   ],
   "source": [
    "plt.scatter(X_cv[:,3], y_cv)\n",
    "plt.plot(X_cv, X_cv @ theta2, color='green')\n",
    "plt.plot"
   ]
  },
  {
   "cell_type": "code",
   "execution_count": 26,
   "id": "tired-modification",
   "metadata": {},
   "outputs": [
    {
     "data": {
      "text/plain": [
       "111278502.32254706"
      ]
     },
     "execution_count": 26,
     "metadata": {},
     "output_type": "execute_result"
    }
   ],
   "source": [
    "min(costs2)"
   ]
  },
  {
   "cell_type": "markdown",
   "id": "cardiovascular-dividend",
   "metadata": {},
   "source": [
    "## Polinomio 5"
   ]
  },
  {
   "cell_type": "code",
   "execution_count": 27,
   "id": "vietnamese-engagement",
   "metadata": {},
   "outputs": [],
   "source": [
    "df['C1_5'] = df['C1'] ** 5\n",
    "df['C2_5'] = df['C2'] ** 5"
   ]
  },
  {
   "cell_type": "code",
   "execution_count": 28,
   "id": "double-california",
   "metadata": {},
   "outputs": [
    {
     "name": "stdout",
     "output_type": "stream",
     "text": [
      "(159999, 7) (159999, 1)\n"
     ]
    }
   ],
   "source": [
    "y = df[['C3']].to_numpy()\n",
    "X = df[['Cons','C1','C2','C1_2','C2_2','C1_3','C2_3']].to_numpy()\n",
    "print(X.shape, y.shape)"
   ]
  },
  {
   "cell_type": "code",
   "execution_count": 29,
   "id": "invisible-champagne",
   "metadata": {},
   "outputs": [],
   "source": [
    "np.random.shuffle(X)\n",
    "np.random.shuffle(y)"
   ]
  },
  {
   "cell_type": "code",
   "execution_count": 30,
   "id": "martial-cotton",
   "metadata": {},
   "outputs": [],
   "source": [
    "#Train 70% \n",
    "#Train 15% \n",
    "#Train 15% \n",
    "\n",
    "X_train = X[:111999]\n",
    "X_test = X[112000:135999]\n",
    "X_cv = X[136000:159999]\n",
    "\n",
    "y_train = y[:111999]\n",
    "y_test = y[112000:135999]\n",
    "y_cv = y[136000:159999]"
   ]
  },
  {
   "cell_type": "code",
   "execution_count": 31,
   "id": "labeled-occasion",
   "metadata": {},
   "outputs": [],
   "source": [
    "m, n = X_train.shape"
   ]
  },
  {
   "cell_type": "code",
   "execution_count": 32,
   "id": "sorted-barbados",
   "metadata": {},
   "outputs": [
    {
     "name": "stdout",
     "output_type": "stream",
     "text": [
      "(7, 1)\n"
     ]
    }
   ],
   "source": [
    "theta_0 = np.random.rand(n,1)\n",
    "print(theta_0.shape)"
   ]
  },
  {
   "cell_type": "code",
   "execution_count": 33,
   "id": "static-blanket",
   "metadata": {},
   "outputs": [],
   "source": [
    "theta3, costs3, thetas3 = gradient_descent(X_train,y_train,theta_0,linear_cost,linear_cost_gradient, learning_rate = 0.0000000000000001, threshold = 0.000000001, max_iter=10000, lambdaparam = 2)"
   ]
  },
  {
   "cell_type": "code",
   "execution_count": 34,
   "id": "aboriginal-eating",
   "metadata": {},
   "outputs": [
    {
     "data": {
      "text/plain": [
       "[<matplotlib.lines.Line2D at 0x7fa1fe703f70>]"
      ]
     },
     "execution_count": 34,
     "metadata": {},
     "output_type": "execute_result"
    },
    {
     "data": {
      "image/png": "[encoded data removed]",
      "text/plain": [
       "<Figure size 432x288 with 1 Axes>"
      ]
     },
     "metadata": {
      "needs_background": "light"
     },
     "output_type": "display_data"
    }
   ],
   "source": [
    "plt.plot(costs3)"
   ]
  },
  {
   "cell_type": "markdown",
   "id": "frequent-makeup",
   "metadata": {},
   "source": [
    "### Test"
   ]
  },
  {
   "cell_type": "code",
   "execution_count": 35,
   "id": "focused-neighbor",
   "metadata": {},
   "outputs": [
    {
     "data": {
      "text/plain": [
       "<function matplotlib.pyplot.plot(*args, scalex=True, scaley=True, data=None, **kwargs)>"
      ]
     },
     "execution_count": 35,
     "metadata": {},
     "output_type": "execute_result"
    },
    {
     "data": {
      "image/png": "[encoded data removed]",
      "text/plain": [
       "<Figure size 432x288 with 1 Axes>"
      ]
     },
     "metadata": {
      "needs_background": "light"
     },
     "output_type": "display_data"
    }
   ],
   "source": [
    "plt.scatter(X_test[:,3], y_test)\n",
    "plt.plot(X_test, X_test @ theta3, color='green')\n",
    "plt.plot"
   ]
  },
  {
   "cell_type": "markdown",
   "id": "medieval-progressive",
   "metadata": {},
   "source": [
    "### Cross Validation"
   ]
  },
  {
   "cell_type": "code",
   "execution_count": 36,
   "id": "serial-adolescent",
   "metadata": {},
   "outputs": [
    {
     "data": {
      "text/plain": [
       "<function matplotlib.pyplot.plot(*args, scalex=True, scaley=True, data=None, **kwargs)>"
      ]
     },
     "execution_count": 36,
     "metadata": {},
     "output_type": "execute_result"
    },
    {
     "data": {
      "image/png": "[encoded data removed]",
      "text/plain": [
       "<Figure size 432x288 with 1 Axes>"
      ]
     },
     "metadata": {
      "needs_background": "light"
     },
     "output_type": "display_data"
    }
   ],
   "source": [
    "plt.scatter(X_cv[:,3], y_cv)\n",
    "plt.plot(X_cv, X_cv @ theta3, color='green')\n",
    "plt.plot"
   ]
  },
  {
   "cell_type": "code",
   "execution_count": 37,
   "id": "figured-devices",
   "metadata": {},
   "outputs": [
    {
     "data": {
      "text/plain": [
       "38008403091.00509"
      ]
     },
     "execution_count": 37,
     "metadata": {},
     "output_type": "execute_result"
    }
   ],
   "source": [
    "min(costs3)"
   ]
  },
  {
   "cell_type": "markdown",
   "id": "designed-nature",
   "metadata": {},
   "source": [
    "## Decisión: Polinomio de Grado 3"
   ]
  },
  {
   "cell_type": "markdown",
   "id": "under-economics",
   "metadata": {},
   "source": [
    "Con base a los costos que obtenemos, el polinomio de grado 3 nos devuelve el mejor costo mínimo, también para los polinomios se utilizó un lambda de 2 ya que con este valor se evita que exista overfitting, underfitting y así reducimos el bias que podemos ver en los modelos, por medio de las gráficas."
   ]
  }
 ],
 "metadata": {
  "kernelspec": {
   "display_name": "emlc1",
   "language": "python",
   "name": "emlc1"
  },
  "language_info": {
   "codemirror_mode": {
    "name": "ipython",
    "version": 3
   },
   "file_extension": ".py",
   "mimetype": "text/x-python",
   "name": "python",
   "nbconvert_exporter": "python",
   "pygments_lexer": "ipython3",
   "version": "3.9.1"
  }
 },
 "nbformat": 4,
 "nbformat_minor": 5
}
